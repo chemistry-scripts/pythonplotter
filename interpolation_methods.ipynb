{
 "cells": [
  {
   "cell_type": "code",
   "metadata": {
    "collapsed": false
   },
   "source": [
    "%matplotlib inline"
   ],
   "outputs": [],
   "execution_count": null
  },
  {
   "cell_type": "markdown",
   "metadata": {},
   "source": [
    "\n",
    "# Interpolations for imshow\n",
    "\n",
    "This example displays the difference between interpolation methods for\n",
    "`~.axes.Axes.imshow`.\n",
    "\n",
    "If *interpolation* is None, it defaults to the :rc:`image.interpolation`.\n",
    "If the interpolation is ``'none'``, then no interpolation is performed for the\n",
    "Agg, ps and pdf backends. Other backends will default to ``'antialiased'``.\n",
    "\n",
    "For the Agg, ps and pdf backends, ``interpolation='none'`` works well when a\n",
    "big image is scaled down, while ``interpolation='nearest'`` works well when\n",
    "a small image is scaled up.\n",
    "\n",
    "See :doc:`/gallery/images_contours_and_fields/image_antialiasing` for a\n",
    "discussion on the default ``interpolation='antialiased'`` option.\n"
   ]
  },
  {
   "cell_type": "code",
   "metadata": {
    "collapsed": false
   },
   "source": [
    "import matplotlib.pyplot as plt\n",
    "import numpy as np\n",
    "\n",
    "methods = [None, 'none', 'nearest', 'bilinear', 'bicubic', 'spline16',\n",
    "           'spline36', 'hanning', 'hamming', 'hermite', 'kaiser', 'quadric',\n",
    "           'catrom', 'gaussian', 'bessel', 'mitchell', 'sinc', 'lanczos']\n",
    "\n",
    "# Fixing random state for reproducibility\n",
    "np.random.seed(19680801)\n",
    "\n",
    "grid = np.random.rand(4, 4)\n",
    "\n",
    "fig, axs = plt.subplots(nrows=3, ncols=6, figsize=(9, 6),\n",
    "                        subplot_kw={'xticks': [], 'yticks': []})\n",
    "\n",
    "for ax, interp_method in zip(axs.flat, methods):\n",
    "    ax.imshow(grid, interpolation=interp_method, cmap='viridis')\n",
    "    ax.set_title(str(interp_method))\n",
    "\n",
    "plt.tight_layout()\n",
    "plt.show()"
   ],
   "outputs": [],
   "execution_count": null
  },
  {
   "cell_type": "markdown",
   "metadata": {},
   "source": [
    ".. admonition:: References\n",
    "\n",
    "   The use of the following functions, methods, classes and modules is shown\n",
    "   in this example:\n",
    "\n",
    "   - `matplotlib.axes.Axes.imshow` / `matplotlib.pyplot.imshow`\n",
    "\n"
   ]
  },
  {
   "cell_type": "code",
   "source": [],
   "metadata": {
    "collapsed": false
   },
   "outputs": [],
   "execution_count": null
  }
 ],
 "metadata": {
  "kernelspec": {
   "display_name": "Python 3",
   "language": "python",
   "name": "python3"
  },
  "language_info": {
   "codemirror_mode": {
    "name": "ipython",
    "version": 3
   },
   "file_extension": ".py",
   "mimetype": "text/x-python",
   "name": "python",
   "nbconvert_exporter": "python",
   "pygments_lexer": "ipython3",
   "version": "3.10.4"
  }
 },
 "nbformat": 4,
 "nbformat_minor": 0
}
