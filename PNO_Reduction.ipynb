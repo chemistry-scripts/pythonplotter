{
 "cells": [
  {
   "cell_type": "code",
   "execution_count": null,
   "id": "initial_id",
   "metadata": {
    "collapsed": true
   },
   "outputs": [],
   "source": [
    "import csv\n",
    "from matplotlib import pyplot as plt\n",
    "from matplotlib import cm\n",
    "\n",
    "# Colormaps: paired\n",
    "colormap = cm.get_cmap('Paired')\n",
    "\n",
    "# Setup data for N2O\n",
    "N2O_time = dict([(\"Re-1\", []), (\"Re-2\", []), (\"Re-3\", []), (\"Re-4\", []), (\"Re-5\", [])])\n",
    "N2O_yield = dict([(\"Re-1\", []), (\"Re-2\", []), (\"Re-3\", []), (\"Re-4\", []), (\"Re-5\", [])])\n",
    "\n",
    "with open('data/N2O_Photoredox_N2O_kinetics.csv', 'r') as data_file:\n",
    "    plots = csv.reader(data_file, delimiter=',')\n",
    "    next(plots)\n",
    "    next(plots)\n",
    "    next(plots)\n",
    "    for row in plots:\n",
    "        N2O_time['Re-1'].append(row[0])\n",
    "        N2O_yield['Re-1'].append(row[1])\n",
    "        N2O_time['Re-2'].append(row[2])\n",
    "        N2O_yield['Re-2'].append(row[3])\n",
    "        N2O_time['Re-3'].append(row[4])\n",
    "        N2O_yield['Re-3'].append(row[5])\n",
    "        N2O_time['Re-4'].append(row[6])\n",
    "        N2O_yield['Re-4'].append(row[7])\n",
    "        N2O_time['Re-5'].append(row[8])\n",
    "        N2O_yield['Re-5'].append(row[9])\n",
    "\n",
    "# Cast str to float\n",
    "N2O_yield = {j:[float(i) for i in N2O_yield[j] if i] for j in N2O_yield}\n",
    "N2O_time = {j:[float(i) for i in N2O_time[j] if i] for j in N2O_time}\n",
    "\n",
    "# Setup data for PNO\n",
    "PNO_time = dict([(\"Re-1\", []), (\"Re-2\", []), (\"Re-3\", []), (\"Re-4\", []), (\"Re-5\", [])])\n",
    "PNO_yield = dict([(\"Re-1\", []), (\"Re-2\", []), (\"Re-3\", []), (\"Re-4\", []), (\"Re-5\", [])])\n",
    "\n",
    "with open('data/N2O_Photoredox_PNO_kinetics.csv', 'r') as data_file:\n",
    "    plots = csv.reader(data_file, delimiter=',')\n",
    "    next(plots)\n",
    "    next(plots)\n",
    "    next(plots)\n",
    "    for row in plots:\n",
    "        PNO_time['Re-1'].append(row[0])\n",
    "        PNO_yield['Re-1'].append(row[1])\n",
    "        PNO_time['Re-2'].append(row[2])\n",
    "        PNO_yield['Re-2'].append(row[3])\n",
    "        PNO_time['Re-3'].append(row[4])\n",
    "        PNO_yield['Re-3'].append(row[5])\n",
    "        PNO_time['Re-4'].append(row[6])\n",
    "        PNO_yield['Re-4'].append(row[7])\n",
    "        PNO_time['Re-5'].append(row[8])\n",
    "        PNO_yield['Re-5'].append(row[9])\n",
    "\n",
    "# Cast str to float\n",
    "PNO_yield = {j:[float(i) for i in PNO_yield[j] if i] for j in PNO_yield}\n",
    "PNO_time = {j:[float(i) for i in PNO_time[j] if i] for j in PNO_time}\n"
   ]
  }
 ],
 "metadata": {
  "kernelspec": {
   "display_name": "Python 3",
   "language": "python",
   "name": "python3"
  },
  "language_info": {
   "codemirror_mode": {
    "name": "ipython",
    "version": 2
   },
   "file_extension": ".py",
   "mimetype": "text/x-python",
   "name": "python",
   "nbconvert_exporter": "python",
   "pygments_lexer": "ipython2",
   "version": "2.7.6"
  }
 },
 "nbformat": 4,
 "nbformat_minor": 5
}
