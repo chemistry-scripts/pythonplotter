{
 "cells": [
  {
   "cell_type": "code",
   "id": "initial_id",
   "metadata": {
    "tags": []
   },
   "source": [
    "import csv\n",
    "from matplotlib import pyplot as plt\n",
    "from matplotlib import cm\n",
    "import numpy as np\n",
    "\n",
    "# Colormaps: paired\n",
    "# Extract colors from colormap, to use at will\n",
    "colormap = cm.get_cmap('Paired')\n",
    "colors = [colormap(i) for i in np.linspace(0, 1, 12)]\n",
    "\n",
    "\n",
    "PNO_time = dict([(\"1%\", []), (\"2%\", []), (\"5%\", []), (\"5%_noH2O\", [])])\n",
    "PNO_yield = dict([(\"1%\", []), (\"2%\", []), (\"5%\", []), (\"5%_noH2O\", [])])\n",
    "\n",
    "with open('../data/PNO_Optimisation.csv', 'r') as data_file:\n",
    "    plots = csv.reader(data_file, delimiter=';')\n",
    "    next(plots)\n",
    "    next(plots)\n",
    "    next(plots)\n",
    "    for row in plots:\n",
    "        PNO_time[\"5%_noH2O\"].append(row[0])\n",
    "        PNO_yield[\"5%_noH2O\"].append(row[1])\n",
    "        PNO_time[\"1%\"].append(row[2])\n",
    "        PNO_yield[\"1%\"].append(row[3])\n",
    "        PNO_time[\"2%\"].append(row[4])\n",
    "        PNO_yield[\"2%\"].append(row[5])\n",
    "        PNO_time[\"5%\"].append(row[6])\n",
    "        PNO_yield[\"5%\"].append(row[7])\n",
    "\n",
    "# Cast str to float\n",
    "PNO_yield = {j:[float(i) for i in PNO_yield[j] if i] for j in PNO_yield}\n",
    "PNO_time = {j:[float(i) for i in PNO_time[j] if i] for j in PNO_time}"
   ],
   "outputs": [],
   "execution_count": null
  },
  {
   "cell_type": "code",
   "id": "1d2c39de-1284-4707-ac0d-60f849d791e7",
   "metadata": {},
   "source": [
    "# Setup axes\n",
    "axis = plt.gca()\n",
    "axis.set_axisbelow(True)\n",
    "axis.set_xlabel(\"Time (min)\")\n",
    "axis.set_xlim(0, 60)\n",
    "axis.set_ylim(-5, 100)\n",
    "axis.set_ylabel(\"Yield (%)\")\n",
    "\n",
    "# Plot lines\n",
    "\n",
    "plt.plot(PNO_time['1%'], PNO_yield['1%'],'o', zorder=2.6, color=colors[5])\n",
    "plt.plot(PNO_time['2%'], PNO_yield['2%'],'o', zorder=2.6, color=colors[1])\n",
    "plt.plot(PNO_time['5%'], PNO_yield['5%'],'o', zorder=2.6, color=colors[3])\n",
    "plt.plot(PNO_time['5%_noH2O'], PNO_yield['5%_noH2O'],'o', zorder=2.6, color=colors[7])\n",
    "\n",
    "# Save file\n",
    "plt.savefig(\"../data/PNO_Optimization.png\", dpi=300)"
   ],
   "outputs": [],
   "execution_count": null
  },
  {
   "cell_type": "code",
   "id": "e3f85c45-86f7-452d-b661-b5f9c249deb0",
   "metadata": {},
   "source": [],
   "outputs": [],
   "execution_count": null
  }
 ],
 "metadata": {
  "kernelspec": {
   "display_name": "Python 3 (ipykernel)",
   "language": "python",
   "name": "python3"
  },
  "language_info": {
   "codemirror_mode": {
    "name": "ipython",
    "version": 3
   },
   "file_extension": ".py",
   "mimetype": "text/x-python",
   "name": "python",
   "nbconvert_exporter": "python",
   "pygments_lexer": "ipython3",
   "version": "3.8.10"
  }
 },
 "nbformat": 4,
 "nbformat_minor": 5
}
