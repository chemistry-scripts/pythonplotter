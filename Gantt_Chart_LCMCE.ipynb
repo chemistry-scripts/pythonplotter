{
 "cells": [
  {
   "cell_type": "code",
   "id": "initial_id",
   "metadata": {},
   "source": [
    "# See https://www.datacamp.com/tutorial/how-to-make-gantt-chart-in-python-matplotlib\n",
    "\n",
    "import pandas as pd\n",
    "import numpy as np\n",
    "import matplotlib\n",
    "import matplotlib.pyplot as plt\n",
    "import datetime as dt\n"
   ],
   "outputs": [],
   "execution_count": null
  },
  {
   "cell_type": "code",
   "id": "803d478a1cf2f4d5",
   "metadata": {},
   "source": [
    "list_of_members = list()\n",
    "\n",
    "list_of_members.append(['Laurent Sévery', 'Postdoc', pd.to_datetime('2021/10/01'), pd.to_datetime('2024/09/30'), 1])\n",
    "list_of_members.append(['Ruqaya Buhaibeh', 'Postdoc', pd.to_datetime('2021/10/01'), pd.to_datetime('2024/09/30'), 1])\n",
    "list_of_members.append(['Kirk Smith', 'Postdoc', pd.to_datetime('2021/10/01'), pd.to_datetime('2024/09/30'), 1])\n",
    "list_of_members.append(['Edgar Gonzalez Yanez', 'Postdoc', pd.to_datetime('2021/10/01'), pd.to_datetime('2024/09/30'), 1])\n",
    "list_of_members.append(['Cyril Theulier', 'Postdoc', pd.to_datetime('2021/10/01'), pd.to_datetime('2024/09/30'), 1])\n",
    "list_of_members.append(['Nicolas Joly', 'Postdoc', pd.to_datetime('2021/10/01'), pd.to_datetime('2024/09/30'), 1])\n",
    "\n",
    "list_of_members.append(['Nathan De Riggi', 'PhD', pd.to_datetime('2021/10/01'), pd.to_datetime('2024/09/30'), 1])\n",
    "list_of_members.append(['Guilhem Zwart', 'PhD', pd.to_datetime('2021/10/01'), pd.to_datetime('2024/09/30'), 1])\n",
    "list_of_members.append(['Neethu Thyagarajan', 'PhD', pd.to_datetime('2021/10/01'), pd.to_datetime('2024/09/30'), 1])\n",
    "list_of_members.append(['Alexandre Touron', 'PhD', pd.to_datetime('2023/10/01'), pd.to_datetime('2026/09/30'), 1])\n",
    "list_of_members.append(['Félix Mandelaire', 'PhD', pd.to_datetime('2022/10/01'), pd.to_datetime('2025/09/30'), 1])\n",
    "list_of_members.append(['Zineb El Moqaouil', 'PhD', pd.to_datetime('2022/10/01'), pd.to_datetime('2025/09/30'), 1])\n",
    "list_of_members.append(['Liu Xin', 'PhD', pd.to_datetime('2022/10/01'), pd.to_datetime('2025/09/30'), 1])\n",
    "list_of_members.append(['Lilian Hoareau', 'PhD', pd.to_datetime('2023/10/01'), pd.to_datetime('2026/09/30'), 1])\n",
    "list_of_members.append(['Antonin Homassel', 'PhD', pd.to_datetime('2023/10/01'), pd.to_datetime('2026/09/30'), 1])\n",
    "list_of_members.append(['Sylvain Gigot', 'PhD', pd.to_datetime('2023/10/01'), pd.to_datetime('2026/09/30'), 1])\n",
    "\n",
    "list_of_members.append(['Virgil Pierron', 'Intern', pd.to_datetime('2024/02/15'), pd.to_datetime('2024/08/30'), 1])\n",
    "list_of_members.append(['Elise Lengaigne', 'Intern', pd.to_datetime('2024/02/15'), pd.to_datetime('2024/08/30'), 1])\n",
    "\n",
    "df = pd.DataFrame(list_of_members, columns=['name', 'job', 'start', 'end', 'completion'])\n",
    "\n",
    "display(df)"
   ],
   "outputs": [],
   "execution_count": null
  },
  {
   "cell_type": "code",
   "id": "7dca43ba2b3e8287",
   "metadata": {},
   "source": [
    "df['days_to_start'] = (df['start'] - df['start'].min()).dt.days\n",
    "df['days_to_end'] = (df['end'] - df['start'].min()).dt.days\n",
    "df['task_duration'] = df['days_to_end'] - df['days_to_start'] + 1  # to include also the end date\n",
    "df['completion_days'] = df['completion'] * df['task_duration']\n",
    "display(df)"
   ],
   "outputs": [],
   "execution_count": null
  },
  {
   "cell_type": "code",
   "id": "a1792382-4bf9-4f64-bd4c-812400607b21",
   "metadata": {},
   "source": [
    "df['start'].min()\n",
    "\n",
    "xticks = pd.date_range(start=df['start'].min(), end=df['end'].max(), freq='QS')\n",
    "xticklabels = pd.date_range(start=df['start'].min(), end=df['end'].max(), freq='QS').strftime(\"%m/%Y\")\n",
    "\n",
    "job_colors = {'PhD': 'c', 'Postdoc': 'm', 'Intern': 'b'}\n",
    "\n",
    "patches = []\n",
    "for team in job_colors:\n",
    "    patches.append(matplotlib.patches.Patch(color=job_colors[team]))\n"
   ],
   "outputs": [],
   "execution_count": null
  },
  {
   "cell_type": "code",
   "id": "7aaef4e432fb85c1",
   "metadata": {},
   "source": [
    "fig, ax = plt.subplots()\n",
    "\n",
    "for index, row in df.iterrows():\n",
    "    plt.barh(y=row['name'], width=row['task_duration'], left=row['start'], color=job_colors[row['job']], alpha=0.4)\n",
    "    # plt.barh(y=row['task'], width=row['completion_days'], left=row['start'] + 1, color=team_colors[row['team']])\n",
    "\n",
    "plt.title('Diagramme de Gantt -- LCMCE')\n",
    "plt.gca().invert_yaxis()\n",
    "\n",
    "ax.set_xticks(xticks)\n",
    "ax.set_xticklabels(xticklabels)\n",
    "\n",
    "ax.xaxis.grid(True, alpha=0.5)\n",
    "ax.legend(handles=patches, labels=job_colors.keys(), fontsize=11)\n",
    "\n",
    "#plt.gca().xaxis.set_major_formatter(matplotlib.dates.DateFormatter('%m/%Y'))\n",
    "#ax.xaxis.set_major_formatter(matplotlib.dates.ConciseDateFormatter(ax.xaxis.get_major_locator()))\n",
    "\n",
    "# Marking the current date on the chart\n",
    "ax.axvline(x=dt.date(year=2024, month=7, day=2), color='r', linestyle='dashed')\n",
    "#ax.text(x=29.5, y=11.5, s='02/07/2024', color='r')\n",
    "\n",
    "plt.show()"
   ],
   "outputs": [],
   "execution_count": null
  },
  {
   "cell_type": "code",
   "id": "b202aa890bbf334c",
   "metadata": {},
   "source": [],
   "outputs": [],
   "execution_count": null
  }
 ],
 "metadata": {
  "kernelspec": {
   "display_name": "Python 3 (ipykernel)",
   "language": "python",
   "name": "python3"
  },
  "language_info": {
   "codemirror_mode": {
    "name": "ipython",
    "version": 3
   },
   "file_extension": ".py",
   "mimetype": "text/x-python",
   "name": "python",
   "nbconvert_exporter": "python",
   "pygments_lexer": "ipython3",
   "version": "3.8.10"
  }
 },
 "nbformat": 4,
 "nbformat_minor": 5
}
