{
 "cells": [
  {
   "cell_type": "code",
   "id": "initial_id",
   "metadata": {
    "collapsed": true
   },
   "source": [
    "# See https://www.datacamp.com/tutorial/how-to-make-gantt-chart-in-python-matplotlib\n",
    "\n",
    "import pandas as pd\n",
    "import numpy as np\n",
    "import matplotlib\n",
    "import matplotlib.pyplot as plt\n",
    "import datetime as dt\n"
   ],
   "outputs": [],
   "execution_count": null
  },
  {
   "metadata": {},
   "cell_type": "code",
   "source": [
    "df = pd.DataFrame({'task': [''],\n",
    "                   'team': ['R&D', 'Accounting', 'Sales', 'Sales', 'IT', 'R&D', 'IT', 'Sales', 'Accounting', 'Accounting', 'Sales', 'IT'],\n",
    "                   'start': pd.to_datetime(['20 Oct 2022', '24 Oct 2022', '26 Oct 2022', '31 Oct 2022', '3 Nov 2022', '7 Nov 2022', '10 Nov 2022', '14 Nov 2022', '18 Nov 2022', '23 Nov 2022', '28 Nov 2022', '30 Nov 2022']),\n",
    "                   'end': pd.to_datetime(['31 Oct 2022', '28 Oct 2022', '31 Oct 2022', '8 Nov 2022', '9 Nov 2022', '18 Nov 2022', '17 Nov 2022', '22 Nov 2022', '23 Nov 2022', '1 Dec 2022', '5 Dec 2022', '5 Dec 2022']),\n",
    "                   'completion_frac': [1, 1, 1, 1, 1, 0.95, 0.7, 0.35, 0.1, 0, 0, 0]})\n",
    "print(df)"
   ],
   "id": "803d478a1cf2f4d5",
   "outputs": [],
   "execution_count": null
  },
  {
   "metadata": {},
   "cell_type": "code",
   "source": [
    "df['days_to_start'] = (df['start'] - df['start'].min()).dt.days\n",
    "df['days_to_end'] = (df['end'] - df['start'].min()).dt.days\n",
    "df['task_duration'] = df['days_to_end'] - df['days_to_start'] + 1  # to include also the end date\n",
    "df['completion_days'] = df['completion_frac'] * df['task_duration']\n",
    "print(df)"
   ],
   "id": "7dca43ba2b3e8287",
   "outputs": [],
   "execution_count": null
  },
  {
   "metadata": {},
   "cell_type": "code",
   "source": [
    "plt.barh(y=df['task'], width=df['task_duration'], left=df['days_to_start'])\n",
    "plt.show()"
   ],
   "id": "4f9e8ab89aad09e1",
   "outputs": [],
   "execution_count": null
  },
  {
   "metadata": {},
   "cell_type": "code",
   "source": [
    "# 1\n",
    "df2 = df[df['team']=='Sales'][['task', 'team', 'start', 'end']]\n",
    "\n",
    "# 2\n",
    "df2.rename(columns={'start': 'start_1', 'end': 'end_1'}, inplace=True)\n",
    "df2.reset_index(drop=True, inplace=True)\n",
    "\n",
    "# 3\n",
    "df2['start_2'] = pd.to_datetime([None, '10 Nov 2022', '25 Nov 2022', None])\n",
    "df2['end_2'] = pd.to_datetime([None, '14 Nov 2022', '28 Nov 2022', None])\n",
    "df2['start_3'] = pd.to_datetime([None, None, '1 Dec 2022', None])\n",
    "df2['end_3'] = pd.to_datetime([None, None, '5 Dec 2022', None])\n",
    "\n",
    "# 4\n",
    "for i in [1, 2, 3]:\n",
    "    suffix = '_' + str(i)\n",
    "    df2['days_to_start' + suffix] = (df2['start' + suffix] - df2['start_1'].min()).dt.days\n",
    "    df2['days_to_end' + suffix] = (df2['end' + suffix] - df2['start_1'].min()).dt.days\n",
    "    df2['task_duration' + suffix] = df2['days_to_end' + suffix] - df2['days_to_start' + suffix] + 1\n",
    "\n",
    "\n",
    "print(df2)"
   ],
   "id": "529396629136dfaf",
   "outputs": [],
   "execution_count": null
  },
  {
   "metadata": {},
   "cell_type": "code",
   "source": [
    "# 1\n",
    "fig, ax = plt.subplots()\n",
    "\n",
    "# 2\n",
    "for index, row in df2.iterrows():\n",
    "    if row['start_2'] is None:\n",
    "        ax.barh(y=df2['task'], width=df2['task_duration_1'], left=df2['days_to_start_1'])\n",
    "    elif row['start_2'] is not None and row['start_3'] is None:\n",
    "        ax.broken_barh(xranges=[(row['days_to_start_1'], row['task_duration_1']), (row['days_to_start_2'], row['task_duration_2'])], yrange=(index + 1, 0.5))\n",
    "    else:\n",
    "        ax.broken_barh(xranges=[(row['days_to_start_1'], row['task_duration_1']), (row['days_to_start_2'], row['task_duration_2']), (row['days_to_start_3'], row['task_duration_3'])], yrange=(index + 1, 0.5))\n",
    "\n",
    "# 3\n",
    "ax.set_yticks([1.25, 2.25, 3.25, 4.25])\n",
    "ax.set_yticklabels(df2['task'])\n",
    "\n",
    "plt.show()"
   ],
   "id": "415fc8f37e138926",
   "outputs": [],
   "execution_count": null
  },
  {
   "metadata": {},
   "cell_type": "code",
   "source": [
    "# 1\n",
    "fig, ax = plt.subplots()\n",
    "\n",
    "# 2\n",
    "for index, row in df2.iterrows():\n",
    "    if row['start_2'] is None:\n",
    "        ax.broken_barh(xranges=[(row['days_to_start_1'], row['task_duration_1'])], yrange=(index + 1, 0.5))\n",
    "    elif row['start_2'] is not None and row['start_3'] is None:\n",
    "        ax.broken_barh(xranges=[(row['days_to_start_1'], row['task_duration_1']), (row['days_to_start_2'], row['task_duration_2'])], yrange=(index + 1, 0.5))\n",
    "    else:\n",
    "        ax.broken_barh(xranges=[(row['days_to_start_1'], row['task_duration_1']), (row['days_to_start_2'], row['task_duration_2']), (row['days_to_start_3'], row['task_duration_3'])], yrange=(index + 1, 0.5))\n",
    "\n",
    "# 3\n",
    "ax.set_yticks([1.25, 2.25, 3.25, 4.25])\n",
    "ax.set_yticklabels(df2['task'])\n",
    "\n",
    "plt.show()\n"
   ],
   "id": "4fcfab94808f9227",
   "outputs": [],
   "execution_count": null
  },
  {
   "metadata": {},
   "cell_type": "code",
   "source": "print(df)",
   "id": "c4a0b221191ad65d",
   "outputs": [],
   "execution_count": null
  },
  {
   "metadata": {},
   "cell_type": "code",
   "source": [
    "plt.barh(y=df['task'], width=df['task_duration'], left=df['days_to_start'])\n",
    "plt.show()"
   ],
   "id": "284866423febfe28",
   "outputs": [],
   "execution_count": null
  },
  {
   "metadata": {},
   "cell_type": "code",
   "source": [
    "plt.barh(y=df['task'], width=df['task_duration'], left=df['days_to_start'])\n",
    "plt.title('Project Management Schedule of Project X', fontsize=15)\n",
    "plt.show()"
   ],
   "id": "77a194dd95661e68",
   "outputs": [],
   "execution_count": null
  },
  {
   "metadata": {},
   "cell_type": "code",
   "source": [
    "# 1\n",
    "fig, ax = plt.subplots()\n",
    "\n",
    "plt.barh(y=df['task'], width=df['task_duration'], left=df['days_to_start'] + 1)\n",
    "plt.title('Project Management Schedule of Project X', fontsize=15)\n",
    "\n",
    "# 2\n",
    "plt.gca().invert_yaxis()\n",
    "\n",
    "# 3\n",
    "xticks = np.arange(5, df['days_to_end'].max() + 2, 7)\n",
    "\n",
    "# 4\n",
    "xticklabels = pd.date_range(start=df['start'].min() + dt.timedelta(days=4), end=df['end'].max()).strftime(\"%d/%m\")\n",
    "# 5\n",
    "ax.set_xticks(xticks)\n",
    "ax.set_xticklabels(xticklabels[::7])\n",
    "\n",
    "# 6\n",
    "ax.xaxis.grid(True, alpha=0.5)\n",
    "\n",
    "plt.show()"
   ],
   "id": "6ee82d72e4c6b43f",
   "outputs": [],
   "execution_count": null
  },
  {
   "metadata": {},
   "cell_type": "code",
   "source": [
    "# 1\n",
    "team_colors = {'R&D': 'c', 'Accounting': 'm', 'Sales': 'y', 'IT': 'b'}\n",
    "\n",
    "# 2\n",
    "fig, ax = plt.subplots()\n",
    "\n",
    "# 3\n",
    "for index, row in df.iterrows():\n",
    "    plt.barh(y=row['task'], width=row['task_duration'], left=row['days_to_start'] + 1, color=team_colors[row['team']])\n",
    "\n",
    "# 4\n",
    "plt.title('Project Management Schedule of Project X', fontsize=15)\n",
    "plt.gca().invert_yaxis()\n",
    "ax.set_xticks(xticks)\n",
    "ax.set_xticklabels(xticklabels[::7])\n",
    "ax.xaxis.grid(True, alpha=0.5)\n",
    "plt.show()"
   ],
   "id": "4079d963ab4de4ee",
   "outputs": [],
   "execution_count": null
  },
  {
   "metadata": {},
   "cell_type": "code",
   "source": [
    "patches = []\n",
    "for team in team_colors:\n",
    "    patches.append(matplotlib.patches.Patch(color=team_colors[team]))\n",
    "\n",
    "fig, ax = plt.subplots()\n",
    "for index, row in df.iterrows():\n",
    "    plt.barh(y=row['task'], width=row['task_duration'], left=row['days_to_start'] + 1, color=team_colors[row['team']])\n",
    "plt.title('Project Management Schedule of Project X', fontsize=15)\n",
    "plt.gca().invert_yaxis()\n",
    "ax.set_xticks(xticks)\n",
    "ax.set_xticklabels(xticklabels[::7])\n",
    "ax.xaxis.grid(True, alpha=0.5)\n",
    "\n",
    "# Adding a legend\n",
    "ax.legend(handles=patches, labels=team_colors.keys(), fontsize=11)\n",
    "\n",
    "plt.show()"
   ],
   "id": "82a982298577d489",
   "outputs": [],
   "execution_count": null
  },
  {
   "metadata": {},
   "cell_type": "code",
   "source": [
    "fig, ax = plt.subplots()\n",
    "\n",
    "for index, row in df.iterrows():\n",
    "\n",
    "    # Adding a lower bar - for the overall task duration\n",
    "    plt.barh(y=row['task'], width=row['task_duration'], left=row['days_to_start'] + 1, color=team_colors[row['team']], alpha=0.4)\n",
    "\n",
    "    # Adding an upper bar - for the status of completion\n",
    "    plt.barh(y=row['task'], width=row['completion_days'], left=row['days_to_start'] + 1, color=team_colors[row['team']])\n",
    "\n",
    "plt.title('Project Management Schedule of Project X', fontsize=15)\n",
    "plt.gca().invert_yaxis()\n",
    "ax.set_xticks(xticks)\n",
    "ax.set_xticklabels(xticklabels[::7])\n",
    "ax.xaxis.grid(True, alpha=0.5)\n",
    "ax.legend(handles=patches, labels=team_colors.keys(), fontsize=11)\n",
    "plt.show()"
   ],
   "id": "ca85cd7cd4862c98",
   "outputs": [],
   "execution_count": null
  },
  {
   "metadata": {},
   "cell_type": "code",
   "source": [
    "fig, ax = plt.subplots()\n",
    "for index, row in df.iterrows():\n",
    "    plt.barh(y=row['task'], width=row['task_duration'], left=row['days_to_start'] + 1, color=team_colors[row['team']], alpha=0.4)\n",
    "    plt.barh(y=row['task'], width=row['completion_days'], left=row['days_to_start'] + 1, color=team_colors[row['team']])\n",
    "\n",
    "plt.title('Project Management Schedule of Project X', fontsize=15)\n",
    "plt.gca().invert_yaxis()\n",
    "ax.set_xticks(xticks)\n",
    "ax.set_xticklabels(xticklabels[::7])\n",
    "ax.xaxis.grid(True, alpha=0.5)\n",
    "ax.legend(handles=patches, labels=team_colors.keys(), fontsize=11)\n",
    "\n",
    "# Marking the current date on the chart\n",
    "ax.axvline(x=29, color='r', linestyle='dashed')\n",
    "ax.text(x=29.5, y=11.5, s='17/11', color='r')\n",
    "\n",
    "plt.show()"
   ],
   "id": "7aaef4e432fb85c1",
   "outputs": [],
   "execution_count": null
  },
  {
   "metadata": {},
   "cell_type": "code",
   "source": "",
   "id": "b202aa890bbf334c",
   "outputs": [],
   "execution_count": null
  }
 ],
 "metadata": {
  "kernelspec": {
   "display_name": "Python 3",
   "language": "python",
   "name": "python3"
  },
  "language_info": {
   "codemirror_mode": {
    "name": "ipython",
    "version": 2
   },
   "file_extension": ".py",
   "mimetype": "text/x-python",
   "name": "python",
   "nbconvert_exporter": "python",
   "pygments_lexer": "ipython2",
   "version": "2.7.6"
  }
 },
 "nbformat": 4,
 "nbformat_minor": 5
}
