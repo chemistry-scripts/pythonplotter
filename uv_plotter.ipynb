{
 "cells": [
  {
   "cell_type": "code",
   "execution_count": null,
   "metadata": {
    "collapsed": true,
    "pycharm": {
     "name": "#%% Imports and load files\n"
    }
   },
   "outputs": [],
   "source": [
    "import math\n",
    "import cclib\n",
    "import matplotlib.pyplot as plot\n",
    "from cclib.parser.utils import convertor\n",
    "\n",
    "def extract(logfile):\n",
    "    \"\"\"Extract excited state energies and oscillator strength from logfile\n",
    "\n",
    "    Fill excited_states with tuples containing wavelength in nm and oscillator strength.\n",
    "    \"\"\"\n",
    "    excited_states = list()\n",
    "\n",
    "    parser = cclib.io.ccopen(logfile)\n",
    "    data = parser.parse()\n",
    "\n",
    "    for wv, os in zip(data.etenergies, data.etoscs):\n",
    "        wv = convertor(wv, \"wavenumber\", \"nm\")\n",
    "        excited_states.append((wv, os))\n",
    "\n",
    "    return excited_states\n",
    "\n",
    "def generate(excited_states, plt_range, grid_size, sigma, normalization=True):\n",
    "    \"\"\"Generate gaussian functions for each excitation energy, and sum them all\n",
    "\n",
    "    - Generate a range of wavelengths to use to generate the spectrum\n",
    "    - At each point, compute the absorbance including the contribution of all excitations\n",
    "    - Normalize according to the max absorbance if necessary\n",
    "    - Return a 2D line ready to be plotted.\n",
    "    \"\"\"\n",
    "\n",
    "    # Generate the range of wavelengths\n",
    "    grid = range(plt_range[0], plot_range[1], grid_size)\n",
    "\n",
    "    # Generate data for each point\n",
    "    uv_spectrum = list()\n",
    "    for point in grid:\n",
    "        fit = 0.0\n",
    "        for (wv, os) in excited_states:\n",
    "            fit += os * math.e ** (-0.5 * ((point - wv) ** 2)/(sigma ** 2))\n",
    "        uv_spectrum += [(point, fit)]\n",
    "\n",
    "    # Normalize if requested\n",
    "    if normalization:\n",
    "        max_energy = max(point[1] for point in uv_spectrum)  # Retrieve max energy\n",
    "        uv_spectrum = [(wavelength, energy/max_energy) for (wavelength, energy) in uv_spectrum]\n",
    "\n",
    "    # Return final spectrum line\n",
    "    return uv_spectrum"
   ]
  },
  {
   "cell_type": "code",
   "execution_count": null,
   "outputs": [],
   "source": [
    "# List of files to plot\n",
    "files = list()\n",
    "files.append('data/UV/bpyRe-CO_3-H2O.log')\n",
    "files.append('data/UV/bpyRe-CO_3-Cl_singlet.log')\n",
    "files.append('data/UV/bpyRe-CO_3-Cl-radicalanion.log')\n",
    "files.append('data/UV/bpyRe-CO_3-PNO.log')\n",
    "\n",
    "broadening_constant = 50  # Broadening for Gaussians\n",
    "plot_range = [200, 800]  # Range of spectrum to display in nm\n",
    "plot_grid = 5  # Grid precision (distance between two generated points)\n",
    "\n",
    "data = extract(files[1])\n",
    "uv_spectrum = generate(data, plot_range, plot_grid, broadening_constant, normalization=True)\n",
    "\n",
    "wavelengths = [point[0] for point in uv_spectrum]\n",
    "absorbances = [point[1] for point in uv_spectrum]\n",
    "\n",
    "plot.xlabel('Energy (nm)')\n",
    "plot.ylabel('')\n",
    "plot.plot(wavelengths, absorbances)\n",
    "plot.show()"
   ],
   "metadata": {
    "collapsed": false,
    "pycharm": {
     "name": "#%%\n"
    }
   }
  }
 ],
 "metadata": {
  "kernelspec": {
   "display_name": "Python 3",
   "language": "python",
   "name": "python3"
  },
  "language_info": {
   "codemirror_mode": {
    "name": "ipython",
    "version": 2
   },
   "file_extension": ".py",
   "mimetype": "text/x-python",
   "name": "python",
   "nbconvert_exporter": "python",
   "pygments_lexer": "ipython2",
   "version": "2.7.6"
  }
 },
 "nbformat": 4,
 "nbformat_minor": 0
}