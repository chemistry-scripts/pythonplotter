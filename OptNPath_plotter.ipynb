{
 "cells": [
  {
   "cell_type": "markdown",
   "id": "17119436-0c85-435d-8a0d-39aa7fa683fa",
   "metadata": {},
   "source": [
    "# 3D plotter for OptNPath outputs\n",
    "\n",
    "## Description of the task\n",
    "OptNPath is a software that enables the computation of an NEB path using various computational chemistry software, including Gaussian.\n",
    "\n",
    "After running, it delivers a list of files for each optimized path, which contain the xyz coordinates and energies of each point. The aim of this notebook is to render the output of such paths in order to have an interpretable figure, rather than just a list of energies."
   ]
  },
  {
   "cell_type": "code",
   "execution_count": null,
   "id": "a1a602d0-e668-4cfa-b4bb-fdab615fb901",
   "metadata": {},
   "outputs": [],
   "source": [
    "# Imports\n",
    "%matplotlib widget\n",
    "import cclib\n",
    "import matplotlib.pyplot as plt\n",
    "from pathlib import Path\n",
    "import numpy as np\n",
    "np.set_printoptions(threshold=10)"
   ]
  },
  {
   "cell_type": "markdown",
   "id": "92c34887-8d36-4cc0-8aa2-fe143d5c4264",
   "metadata": {},
   "source": [
    "## Extract data from list of files\n",
    "Data looks like:\n",
    "```\n",
    "     6\n",
    " Geometry   1/ 18 for iteration 118 E=    -954.044825715\n",
    "     C    0.000000    0.000000    0.000000\n",
    "    CL    1.791689    0.000000    0.000000\n",
    "     H   -0.358375    1.037571    0.000000\n",
    "     H   -0.356525   -0.518921   -0.898137\n",
    "     H   -0.360734   -0.518109    0.897921\n",
    "    CL   -6.000000    0.001000    0.000000\n",
    "\n",
    "```"
   ]
  },
  {
   "cell_type": "code",
   "execution_count": null,
   "id": "853674fe-8f3a-4aeb-a12c-6fde6c1799c6",
   "metadata": {},
   "outputs": [],
   "source": [
    "basedir = Path().cwd()\n",
    "files_dir = basedir.joinpath(\"data/optnpath\")\n",
    "optnpath_files = [Path(i) for i in files_dir.glob('test.*')]\n",
    "optnpath_files = np.array(sorted(optnpath_files, key=lambda x: int(x.suffix[1:])))"
   ]
  },
  {
   "cell_type": "code",
   "execution_count": null,
   "id": "b1e5a8c8-5ca9-4d7a-a7b6-077baca0f0ce",
   "metadata": {},
   "outputs": [],
   "source": [
    "# Take a subset of files:\n",
    "optnpath_files = optnpath_files[40:80]\n",
    "\n",
    "n_files = np.size(optnpath_files)\n",
    "\n",
    "with open(optnpath_files[0]) as sample_file:\n",
    "    n_steps = sample_file.read().count(\"Geometry\")\n",
    "\n",
    "print(n_files)\n",
    "print(n_steps)\n",
    "print(optnpath_files)"
   ]
  },
  {
   "cell_type": "code",
   "execution_count": null,
   "id": "9e4687af-20b9-47d5-a73b-2a0d37d3d037",
   "metadata": {},
   "outputs": [],
   "source": [
    "def get_energies(optnpath_file):\n",
    "    \"\"\"\n",
    "    Extract list of energies in given file\n",
    "    \"\"\"\n",
    "    energies = np.empty(n_steps)\n",
    "    i = 0\n",
    "    with open(optnpath_file, \"r\") as file:\n",
    "        for line in file.readlines():\n",
    "            if line.strip().startswith(\"Geometry\"):\n",
    "                # Geometry   1/ 18 for iteration 118 E=    -954.044825715\n",
    "                energy = float(line.split(\"E=\")[1].strip())\n",
    "                energies[i] = energy\n",
    "                i += 1\n",
    "    return energies"
   ]
  },
  {
   "cell_type": "code",
   "execution_count": null,
   "id": "b08d671c-a868-46e6-a9ac-03572a7e4a22",
   "metadata": {},
   "outputs": [],
   "source": [
    "energies_table = np.empty((n_files, n_steps))\n",
    "i = 0\n",
    "for file in optnpath_files:\n",
    "    energies = get_energies(file)\n",
    "    energies_table[i,] = energies\n",
    "    i += 1\n",
    "    \n",
    "print(energies_table)"
   ]
  },
  {
   "cell_type": "markdown",
   "id": "7c2a0815-4e61-49cc-9751-b8ad9aa2fccd",
   "metadata": {},
   "source": [
    "## Plotting in 3D"
   ]
  },
  {
   "cell_type": "code",
   "execution_count": null,
   "id": "77d1d22a-3c8d-4182-94d0-66bbd4e3e82e",
   "metadata": {},
   "outputs": [],
   "source": [
    "ax = plt.axes(projection='3d')\n",
    "def f(x,y):\n",
    "    return energies_table[x,y]\n",
    "\n",
    "x = np.arange(n_files)\n",
    "y = np.arange(n_steps)\n",
    "X, Y = np.meshgrid(y, x)\n",
    "ax.plot_surface(X, Y, energies_table)"
   ]
  },
  {
   "cell_type": "code",
   "execution_count": null,
   "id": "a0817f9f-0552-4d17-809a-4edbb675e0d0",
   "metadata": {},
   "outputs": [],
   "source": []
  }
 ],
 "metadata": {
  "kernelspec": {
   "display_name": "Python 3 (ipykernel)",
   "language": "python",
   "name": "python3"
  },
  "language_info": {
   "codemirror_mode": {
    "name": "ipython",
    "version": 3
   },
   "file_extension": ".py",
   "mimetype": "text/x-python",
   "name": "python",
   "nbconvert_exporter": "python",
   "pygments_lexer": "ipython3",
   "version": "3.10.2"
  }
 },
 "nbformat": 4,
 "nbformat_minor": 5
}
